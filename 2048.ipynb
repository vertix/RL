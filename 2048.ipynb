{
 "cells": [
  {
   "cell_type": "code",
   "execution_count": 1,
   "metadata": {
    "collapsed": false
   },
   "outputs": [],
   "source": [
    "# import random\n",
    "# import sys\n",
    "# import threading\n",
    "\n",
    "\n",
    "import gym\n",
    "from gym import spaces\n",
    "from gym.utils import seeding\n",
    "\n",
    "import numpy as np\n",
    "\n",
    "import tensorflow as tf"
   ]
  },
  {
   "cell_type": "code",
   "execution_count": 2,
   "metadata": {
    "collapsed": true
   },
   "outputs": [],
   "source": [
    "import game2048\n",
    "import rl"
   ]
  },
  {
   "cell_type": "code",
   "execution_count": 3,
   "metadata": {
    "collapsed": true
   },
   "outputs": [],
   "source": [
    "env = game2048.Game2048()"
   ]
  },
  {
   "cell_type": "code",
   "execution_count": 11,
   "metadata": {
    "collapsed": false
   },
   "outputs": [],
   "source": [
    "def Networks(env, states, hidden_num):\n",
    "    \"\"\"Maps states tensor to the pair of policy and value tensors.\"\"\"\n",
    "    with tf.device(\"/cpu:0\"):\n",
    "        with tf.variable_scope('common'):\n",
    "            hidden = tf.reshape(states, [-1, 16])\n",
    "            for num in hidden_num:\n",
    "                hidden = tf.contrib.layers.relu(\n",
    "                    hidden, num,\n",
    "                    weights_initializer=tf.truncated_normal_initializer(stddev=1.),\n",
    "                    biases_initializer=tf.constant_initializer(0.02))\n",
    "\n",
    "        with tf.variable_scope('policy'):\n",
    "            logits = tf.contrib.layers.linear(hidden, env.action_space.n)\n",
    "        with tf.variable_scope('value'):\n",
    "            value_out = tf.contrib.layers.linear(hidden, 1)\n",
    "        return logits, value_out"
   ]
  },
  {
   "cell_type": "code",
   "execution_count": 17,
   "metadata": {
    "collapsed": true
   },
   "outputs": [],
   "source": [
    "options = dict(rl.DEFAULT_OPTIONS)\n",
    "options['threads'] = 4\n",
    "options['learning_rate'] = 0.0001"
   ]
  },
  {
   "cell_type": "code",
   "execution_count": 18,
   "metadata": {
    "collapsed": false
   },
   "outputs": [],
   "source": [
    "ac = rl.ActorCritic(game2048.Game2048,\n",
    "                    lambda env, st: Networks(env, st, [20, 20, 20]),\n",
    "                    options=options)"
   ]
  },
  {
   "cell_type": "code",
   "execution_count": 19,
   "metadata": {
    "collapsed": true
   },
   "outputs": [],
   "source": [
    "logs_dir = '/media/vertix/UHDD/tmp/tensorflow_logs/{}/{:02d}'.format('2048', 3)\n",
    "ac.Init(logs_dir)"
   ]
  },
  {
   "cell_type": "code",
   "execution_count": 20,
   "metadata": {
    "collapsed": false
   },
   "outputs": [],
   "source": [
    "ac.Learn(10000000)"
   ]
  },
  {
   "cell_type": "code",
   "execution_count": 16,
   "metadata": {
    "collapsed": true
   },
   "outputs": [],
   "source": [
    "ac.Close()"
   ]
  },
  {
   "cell_type": "code",
   "execution_count": null,
   "metadata": {
    "collapsed": true
   },
   "outputs": [],
   "source": []
  }
 ],
 "metadata": {
  "anaconda-cloud": {},
  "kernelspec": {
   "display_name": "Python [conda root]",
   "language": "python",
   "name": "conda-root-py"
  },
  "language_info": {
   "codemirror_mode": {
    "name": "ipython",
    "version": 2
   },
   "file_extension": ".py",
   "mimetype": "text/x-python",
   "name": "python",
   "nbconvert_exporter": "python",
   "pygments_lexer": "ipython2",
   "version": "2.7.12"
  }
 },
 "nbformat": 4,
 "nbformat_minor": 1
}
