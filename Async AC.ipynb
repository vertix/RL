{
 "cells": [
  {
   "cell_type": "code",
   "execution_count": 18,
   "metadata": {
    "collapsed": true
   },
   "outputs": [],
   "source": [
    "import math\n",
    "import threading\n",
    "\n",
    "%matplotlib inline\n",
    "import matplotlib.pyplot as plt\n",
    "\n",
    "import numpy as np"
   ]
  },
  {
   "cell_type": "code",
   "execution_count": 2,
   "metadata": {
    "collapsed": false
   },
   "outputs": [],
   "source": [
    "import gym\n",
    "import tensorflow as tf"
   ]
  },
  {
   "cell_type": "code",
   "execution_count": 3,
   "metadata": {
    "collapsed": false
   },
   "outputs": [
    {
     "name": "stderr",
     "output_type": "stream",
     "text": [
      "[2016-10-23 13:15:45,089] Making new env: CartPole-v0\n"
     ]
    }
   ],
   "source": [
    "env = gym.make('CartPole-v0')"
   ]
  },
  {
   "cell_type": "code",
   "execution_count": 4,
   "metadata": {
    "collapsed": true
   },
   "outputs": [],
   "source": [
    "def Networks(env, states, hidden_num):\n",
    "    \"\"\"Maps states tensor to the pair of policy and value tensors.\"\"\"\n",
    "    with tf.device(\"/cpu:0\"):\n",
    "        with tf.variable_scope('common'):\n",
    "            hidden = tf.contrib.layers.relu(states, hidden_num,\n",
    "                                            weights_initializer=tf.truncated_normal_initializer(stddev=1.),\n",
    "                                            biases_initializer=tf.constant_initializer(0.1))\n",
    "        with tf.variable_scope('policy'):\n",
    "            logits = tf.contrib.layers.linear(hidden, env.action_space.n)\n",
    "        with tf.variable_scope('value'):\n",
    "            value_out = tf.contrib.layers.linear(hidden, 1)\n",
    "        return logits, value_out"
   ]
  },
  {
   "cell_type": "code",
   "execution_count": 5,
   "metadata": {
    "collapsed": true
   },
   "outputs": [],
   "source": [
    "def PlotValue(sess, value, values):\n",
    "    grid = np.meshgrid(*values)\n",
    "    shape = np.shape(grid[0])\n",
    "    vinput = np.reshape(grid, (len(values), -1)).transpose()\n",
    "    output = sess.run(value, feed_dict={ac1._state: vinput})\n",
    "    image = output.reshape(shape).squeeze()\n",
    "    extent = []\n",
    "    for v in values:\n",
    "        if not isinstance(v, (float, int)):\n",
    "            extent.append(np.min(v, ))\n",
    "            extent.append(np.max(v))\n",
    "            \n",
    "    plt.colorbar(plt.imshow(image, interpolation=\"nearest\", extent=extent, aspect='auto'))"
   ]
  },
  {
   "cell_type": "markdown",
   "metadata": {},
   "source": [
    "-------"
   ]
  },
  {
   "cell_type": "code",
   "execution_count": 6,
   "metadata": {
    "collapsed": true
   },
   "outputs": [],
   "source": [
    "def discounted_rewards(rewards, gamma, bootstrap):\n",
    "    rank = rewards.get_shape().ndims or tf.rank(reward)\n",
    "    \n",
    "    reverse_params = tf.concat(0, [\n",
    "            tf.constant([True]),\n",
    "            tf.fill(tf.expand_dims(rank - 1, 0), False)\n",
    "        ])\n",
    "    reverse_rew = tf.reverse(rewards, reverse_params)\n",
    "    \n",
    "    summed = tf.scan(lambda a, x: x + gamma * a, reverse_rew, initializer=bootstrap,\n",
    "                     parallel_iterations=1, back_prop=False)\n",
    "    return tf.reverse(summed, reverse_params)"
   ]
  },
  {
   "cell_type": "code",
   "execution_count": 7,
   "metadata": {
    "collapsed": true
   },
   "outputs": [],
   "source": [
    "def Last(bb):\n",
    "    size = tf.shape(bb)[0]\n",
    "    return tf.reshape(tf.gather(bb, size - 1), [])"
   ]
  },
  {
   "cell_type": "code",
   "execution_count": 17,
   "metadata": {
    "collapsed": false
   },
   "outputs": [],
   "source": [
    "DEFAULT_OPTIONS = {\n",
    "    'clip_grad': 5.,\n",
    "    'gamma': 0.99,\n",
    "    'learning_rate': 0.01,\n",
    "    'eps_decay': 3000,\n",
    "    'rollout': 20,\n",
    "    'threads': 1,\n",
    "}"
   ]
  },
  {
   "cell_type": "code",
   "execution_count": 99,
   "metadata": {
    "collapsed": false
   },
   "outputs": [],
   "source": [
    "class ActorCritic(object):\n",
    "    def __init__(self, env, build_networks, options=DEFAULT_OPTIONS):\n",
    "        self._env = env\n",
    "        self._env_example = env()\n",
    "        self._options = options\n",
    "        state_dim = self._env_example.observation_space.shape[0]\n",
    "        self._graph = tf.Graph()\n",
    "        self._threads = []\n",
    "        with self._graph.as_default(), tf.device('/cpu:0'):\n",
    "            self._state = tf.placeholder(tf.float32, shape=[None, state_dim], name='states')\n",
    "            self._action = tf.placeholder(tf.int64, shape=[None], name='actions')\n",
    "            self._reward = tf.placeholder(tf.float32, shape=[None, 1], name='rewards')\n",
    "            self._done = tf.placeholder(tf.float32, shape=[1], name='done')      \n",
    "\n",
    "            self._policy_logits, self._baseline = build_networks(self._env_example, self._state)\n",
    "\n",
    "            self._discount = discounted_rewards(self._reward, options['gamma'],\n",
    "                                                Last(self._baseline) * (1. - self._done))\n",
    "            \n",
    "            self._tf_policy = tf.reshape(tf.multinomial(self._policy_logits, 1), [])\n",
    "\n",
    "        \n",
    "            with tf.device('/cpu:0'):\n",
    "                optimizer = tf.train.AdamOptimizer(options['learning_rate'])\n",
    "\n",
    "            advantage = tf.reshape(self._discount, [-1, 1]) - self._baseline\n",
    "\n",
    "            cross_entropy = tf.nn.sparse_softmax_cross_entropy_with_logits(self._policy_logits,\n",
    "                                                                           tf.reshape(self._action, [-1]))\n",
    "            policy_loss = tf.reduce_mean(tf.mul(cross_entropy, tf.stop_gradient(advantage)))\n",
    "            policy_entropy = tf.reduce_mean(-tf.nn.softmax(self._policy_logits) * \n",
    "                                            tf.nn.log_softmax(self._policy_logits))\n",
    "            value_loss = 0.5 * tf.reduce_mean(tf.square(advantage))\n",
    "\n",
    "            loss = policy_loss + 0.25 * value_loss - 0.01 * policy_entropy\n",
    "\n",
    "            grads = optimizer.compute_gradients(loss, tf.get_collection(tf.GraphKeys.VARIABLES))\n",
    "            if 'clip_grad' in options:\n",
    "                grads = [(tf.clip_by_norm(g, options['clip_grad']), v)\n",
    "                         for g, v in grads]\n",
    "\n",
    "            for grad, var in grads:\n",
    "                tf.histogram_summary(var.name, var)\n",
    "                if grad is not None:\n",
    "                    tf.histogram_summary('{}/grad'.format(var.name), grad)            \n",
    "\n",
    "            self._global_step = tf.Variable(0, name='global_step', trainable=False)\n",
    "            self._epsilon = 1.0 / (1.0 + tf.cast(self._global_step, tf.float32) \n",
    "                                   / options.get('eps_decay', 3000.))\n",
    "            self._train_op = optimizer.apply_gradients(grads, self._global_step)\n",
    "            \n",
    "            tf.histogram_summary(\"Predicted baseline\", self._baseline)\n",
    "            tf.scalar_summary(\"Loss/Actor\", policy_loss)\n",
    "            tf.scalar_summary(\"Loss/Critic\", value_loss)\n",
    "            tf.scalar_summary(\"Loss/Entropy\", policy_entropy)\n",
    "            tf.scalar_summary(\"Loss/Total\", loss)\n",
    "            tf.scalar_summary(\"Epsilon\", self._epsilon)\n",
    "            tf.scalar_summary(\"Done\", tf.reduce_mean(self._done))\n",
    "\n",
    "            self._summary_op = tf.merge_all_summaries()\n",
    "\n",
    "            self.sess = tf.Session(config=tf.ConfigProto(log_device_placement=True))\n",
    "\n",
    "    def Init(self, run_id):\n",
    "        with self._graph.as_default():\n",
    "            self.sess.run(tf.initialize_all_variables())\n",
    "            self._writer = tf.train.SummaryWriter(\n",
    "                '/media/vertix/UHDD/tmp/tensorflow_logs/{}/{:02d}'.format(self._env_example.spec.id, run_id))\n",
    "            self._coord = tf.train.Coordinator()\n",
    "\n",
    "    def Close(self):\n",
    "        self._coord.request_stop()\n",
    "        self._coord.join(self._threads)\n",
    "        self.sess.close()\n",
    "            \n",
    "    def CleanPolicy(self, observation):\n",
    "        return self.sess.run(self._tf_policy,\n",
    "                             {self._state:\n",
    "                              observation.reshape(1, self._env_example.observation_space.shape[0])})\n",
    "    \n",
    "    def EpsilonGreedyPolicy(self, observation):\n",
    "        epsilon = self.sess.run(self._epsilon)\n",
    "        if np.random.rand() < epsilon:\n",
    "            return self._env_example.action_space.sample()\n",
    "        else:\n",
    "            return self.CleanPolicy(observation)\n",
    "\n",
    "    def Learn(self, num_steps):\n",
    "        if any([t.is_alive() for t in self._threads]):\n",
    "            print 'At least one thread is already running!'\n",
    "            return\n",
    "\n",
    "        self._threads = [threading.Thread(target=self.LearnThread, args=(num_steps,))\n",
    "                         for _ in xrange(self._options['threads'])]\n",
    "        for t in self._threads:\n",
    "            t.start()\n",
    "        \n",
    "    def LearnThread(self, num_steps):\n",
    "        env = self._env()\n",
    "        obs = env.reset()\n",
    "\n",
    "        observations, actions, rewards = [], [], []\n",
    "        done = False\n",
    "        episode_reward, episode_len = 0., 0.\n",
    "\n",
    "        while not self._coord.should_stop():\n",
    "            observations.append(obs)\n",
    "            act = self.EpsilonGreedyPolicy(obs)\n",
    "            actions.append(act)\n",
    "            \n",
    "            obs, reward, done, _ = env.step(act)\n",
    "            episode_reward += reward\n",
    "            episode_len += 1.\n",
    "            rewards.append(reward)\n",
    "            \n",
    "            if done or len(observations) >= self._options.get('rollout', 20):\n",
    "                # TODO(vertix): Use queues to run learn in parallel and not block env.\n",
    "                step = self.Update(observations, actions, rewards, done)\n",
    "                if done:\n",
    "                    obs = env.reset()\n",
    "                    done = False\n",
    "                    self._writer.add_summary(tf.Summary(value=[\n",
    "                                tf.Summary.Value(tag='Env/Rewards', simple_value=episode_reward),\n",
    "                                tf.Summary.Value(tag='Env/Length', simple_value=episode_len),                                \n",
    "                            ]), step)\n",
    "                    episode_reward, episode_len = 0., 0.\n",
    "\n",
    "                observations, actions, rewards = [], [], []\n",
    "            \n",
    "                if step >= num_steps:\n",
    "                    print 'Many steps!'\n",
    "                    self._coord.request_stop()\n",
    "\n",
    "    def Update(self, observations, actions, rewards, done):\n",
    "        feed_dict = {self._state: observations,\n",
    "                     self._action: actions,\n",
    "                     self._reward: np.reshape(rewards, (-1, 1)),\n",
    "                     self._done: [1.0 if done else 0.0]}\n",
    "            \n",
    "        step, _ = self.sess.run([self._global_step,self._train_op], feed_dict)\n",
    "\n",
    "        if step % 50 == 0:\n",
    "            self._writer.add_summary(self.sess.run(self._summary_op, feed_dict), step)\n",
    "        return step"
   ]
  },
  {
   "cell_type": "code",
   "execution_count": 101,
   "metadata": {
    "collapsed": false
   },
   "outputs": [],
   "source": [
    "ac1.Close()\n",
    "ac1 = ActorCritic(lambda: env, lambda env, st: Networks(env, st, 10))"
   ]
  },
  {
   "cell_type": "code",
   "execution_count": 102,
   "metadata": {
    "collapsed": false
   },
   "outputs": [],
   "source": [
    "ac1.Init(1)"
   ]
  },
  {
   "cell_type": "code",
   "execution_count": 103,
   "metadata": {
    "collapsed": false
   },
   "outputs": [
    {
     "name": "stderr",
     "output_type": "stream",
     "text": [
      "[2016-10-24 00:00:17,770] You are calling 'step()' even though this environment has already returned done = True. You should always call 'reset()' once you receive 'done = True' -- any further steps are undefined behavior.\n",
      "[2016-10-24 00:00:17,790] You are calling 'step()' even though this environment has already returned done = True. You should always call 'reset()' once you receive 'done = True' -- any further steps are undefined behavior.\n",
      "Exception in thread Thread-41:\n",
      "Traceback (most recent call last):\n",
      "  File \"/home/vertix/anaconda2/lib/python2.7/threading.py\", line 801, in __bootstrap_inner\n",
      "    self.run()\n",
      "  File \"/home/vertix/anaconda2/lib/python2.7/threading.py\", line 754, in run\n",
      "    self.__target(*self.__args, **self.__kwargs)\n",
      "  File \"<ipython-input-94-e4c276b8aa3b>\", line 111, in LearnThread\n",
      "    obs, reward, done, _ = env.step(act)\n",
      "  File \"/home/vertix/anaconda2/lib/python2.7/site-packages/gym/core.py\", line 122, in step\n",
      "    observation, reward, done, info = self._step(action)\n",
      "  File \"/home/vertix/anaconda2/lib/python2.7/site-packages/gym/envs/classic_control/cartpole.py\", line 91, in _step\n",
      "    self.steps_beyond_done += 1\n",
      "TypeError: unsupported operand type(s) for +=: 'NoneType' and 'int'\n",
      "\n"
     ]
    }
   ],
   "source": [
    "ac1.Learn(150000)"
   ]
  },
  {
   "cell_type": "code",
   "execution_count": 83,
   "metadata": {
    "collapsed": false
   },
   "outputs": [
    {
     "data": {
      "text/plain": [
       "5342"
      ]
     },
     "execution_count": 83,
     "metadata": {},
     "output_type": "execute_result"
    }
   ],
   "source": [
    "ac1.sess.run(ac1._global_step)"
   ]
  },
  {
   "cell_type": "code",
   "execution_count": null,
   "metadata": {
    "collapsed": true
   },
   "outputs": [],
   "source": []
  },
  {
   "cell_type": "code",
   "execution_count": 104,
   "metadata": {
    "collapsed": false
   },
   "outputs": [],
   "source": [
    "options = dict(DEFAULT_OPTIONS)\n",
    "options['threads'] = 1"
   ]
  },
  {
   "cell_type": "code",
   "execution_count": 105,
   "metadata": {
    "collapsed": true
   },
   "outputs": [],
   "source": [
    "ac2.Close()\n",
    "ac2 = ActorCritic(lambda: env, lambda env, st: Networks(env, st, 10), options)"
   ]
  },
  {
   "cell_type": "code",
   "execution_count": 106,
   "metadata": {
    "collapsed": true
   },
   "outputs": [],
   "source": [
    "ac2.Init(2)"
   ]
  },
  {
   "cell_type": "code",
   "execution_count": 107,
   "metadata": {
    "collapsed": false
   },
   "outputs": [
    {
     "name": "stderr",
     "output_type": "stream",
     "text": [
      "[2016-10-24 00:00:34,812] You are calling 'step()' even though this environment has already returned done = True. You should always call 'reset()' once you receive 'done = True' -- any further steps are undefined behavior.\n",
      "Exception in thread Thread-46:\n",
      "Traceback (most recent call last):\n",
      "  File \"/home/vertix/anaconda2/lib/python2.7/threading.py\", line 801, in __bootstrap_inner\n",
      "    self.run()\n",
      "  File \"/home/vertix/anaconda2/lib/python2.7/threading.py\", line 754, in run\n",
      "    self.__target(*self.__args, **self.__kwargs)\n",
      "  File \"<ipython-input-99-e4c276b8aa3b>\", line 111, in LearnThread\n",
      "    obs, reward, done, _ = env.step(act)\n",
      "  File \"/home/vertix/anaconda2/lib/python2.7/site-packages/gym/core.py\", line 122, in step\n",
      "    observation, reward, done, info = self._step(action)\n",
      "  File \"/home/vertix/anaconda2/lib/python2.7/site-packages/gym/envs/classic_control/cartpole.py\", line 91, in _step\n",
      "    self.steps_beyond_done += 1\n",
      "TypeError: unsupported operand type(s) for +=: 'NoneType' and 'int'\n",
      "\n"
     ]
    }
   ],
   "source": [
    "ac2.Learn(150000)"
   ]
  },
  {
   "cell_type": "code",
   "execution_count": null,
   "metadata": {
    "collapsed": true
   },
   "outputs": [],
   "source": []
  },
  {
   "cell_type": "code",
   "execution_count": 39,
   "metadata": {
    "collapsed": false
   },
   "outputs": [
    {
     "data": {
      "image/png": "[encoded data removed]",
      "text/plain": [
       "<matplotlib.figure.Figure at 0x7fb0400f6890>"
      ]
     },
     "metadata": {},
     "output_type": "display_data"
    }
   ],
   "source": [
    "a = PlotValue(sess, value, [0, 0, np.linspace(-20., 20., 100), np.linspace(-15., 15., 100), 0., 0.])"
   ]
  },
  {
   "cell_type": "code",
   "execution_count": 43,
   "metadata": {
    "collapsed": false
   },
   "outputs": [
    {
     "data": {
      "image/png": "[encoded data removed]",
      "text/plain": [
       "<matplotlib.figure.Figure at 0x7fae18566c90>"
      ]
     },
     "metadata": {},
     "output_type": "display_data"
    }
   ],
   "source": [
    "a = PlotValue(ac1.sess, ac1._baseline,\n",
    "              [np.linspace(-2.2, 2.2, 100), np.linspace(-5., 5., 100), 0, 0])"
   ]
  },
  {
   "cell_type": "code",
   "execution_count": 44,
   "metadata": {
    "collapsed": false
   },
   "outputs": [
    {
     "data": {
      "image/png": "[encoded data removed]",
      "text/plain": [
       "<matplotlib.figure.Figure at 0x7fae085b1590>"
      ]
     },
     "metadata": {},
     "output_type": "display_data"
    }
   ],
   "source": [
    "a = PlotValue(ac1.sess, tf.nn.softmax(ac1._policy_logits)[:, 0],\n",
    "              [0, 0, np.linspace(-2.2, 2.2, 100), np.linspace(-5., 5., 100)])"
   ]
  },
  {
   "cell_type": "code",
   "execution_count": 45,
   "metadata": {
    "collapsed": false
   },
   "outputs": [
    {
     "data": {
      "image/png": "[encoded data removed]",
      "text/plain": [
       "<matplotlib.figure.Figure at 0x7fae18222750>"
      ]
     },
     "metadata": {},
     "output_type": "display_data"
    }
   ],
   "source": [
    "a = PlotValue(ac1.sess, tf.nn.softmax(ac1._policy_logits)[:, 0],\n",
    "              [np.linspace(-2.2, 2.2, 100), np.linspace(-5., 5., 100), 0, 0])"
   ]
  },
  {
   "cell_type": "code",
   "execution_count": 286,
   "metadata": {
    "collapsed": false
   },
   "outputs": [
    {
     "data": {
      "text/plain": [
       "(array([ 0.99847408,  0.05522233, -0.41032117, -0.91194108, -1.1073869 ,\n",
       "         3.68590749]), -1.0, False, {})"
      ]
     },
     "execution_count": 286,
     "metadata": {},
     "output_type": "execute_result"
    }
   ],
   "source": [
    "env.step(1)"
   ]
  },
  {
   "cell_type": "code",
   "execution_count": null,
   "metadata": {
    "collapsed": true
   },
   "outputs": [],
   "source": [
    "def PlayEpisode(env, policy, render=False, max_steps=None):\n",
    "    observations, actions, rewards = [], [], []\n",
    "    observation = None\n",
    "    done = False\n",
    "    steps = 0\n",
    "    observation = env.reset()\n",
    "    \n",
    "    while not done and (max_steps is None or steps < max_steps):\n",
    "        if render:\n",
    "            env.render()\n",
    "        \n",
    "        observations.append(observation)\n",
    "        action = policy(observation)\n",
    "        actions.append(action)\n",
    "\n",
    "        observation, reward, done, info = env.step(action)\n",
    "        rewards.append(reward)  \n",
    "        steps += 1\n",
    "\n",
    "    if render:\n",
    "        env.render(close=True)\n",
    "\n",
    "    if isinstance(env.action_space, gym.spaces.Discrete):\n",
    "        actions = np.reshape(actions, (len(actions), 1))\n",
    "        \n",
    "    return observations, actions, rewards, done"
   ]
  },
  {
   "cell_type": "code",
   "execution_count": 21,
   "metadata": {
    "collapsed": true
   },
   "outputs": [],
   "source": [
    "env.render(close=True)"
   ]
  },
  {
   "cell_type": "code",
   "execution_count": 47,
   "metadata": {
    "collapsed": false
   },
   "outputs": [
    {
     "name": "stdout",
     "output_type": "stream",
     "text": [
      "37.0\n"
     ]
    }
   ],
   "source": [
    "# %%prun\n",
    "\n",
    "try:\n",
    "    done = False\n",
    "    obs = env.reset()\n",
    "    r = 0\n",
    "    while not done:\n",
    "        env.render()\n",
    "        a = ac1.CleanPolicy(obs)\n",
    "        obs, reward, done, _ = env.step(a)\n",
    "        r += reward\n",
    "    print r\n",
    "finally:\n",
    "    env.render(close=True)"
   ]
  },
  {
   "cell_type": "code",
   "execution_count": 61,
   "metadata": {
    "collapsed": false
   },
   "outputs": [
    {
     "ename": "NameError",
     "evalue": "name 'PlayEpisode' is not defined",
     "output_type": "error",
     "traceback": [
      "\u001b[1;31m---------------------------------------------------------------------------\u001b[0m",
      "\u001b[1;31mNameError\u001b[0m                                 Traceback (most recent call last)",
      "\u001b[1;32m<ipython-input-61-90e3dfa205a5>\u001b[0m in \u001b[0;36m<module>\u001b[1;34m()\u001b[0m\n\u001b[1;32m----> 1\u001b[1;33m \u001b[0mPlayEpisode\u001b[0m\u001b[1;33m(\u001b[0m\u001b[0menv\u001b[0m\u001b[1;33m,\u001b[0m \u001b[0mac1\u001b[0m\u001b[1;33m.\u001b[0m\u001b[0mCleanPolicy\u001b[0m\u001b[1;33m(\u001b[0m\u001b[1;33m)\u001b[0m\u001b[1;33m,\u001b[0m \u001b[0mTrue\u001b[0m\u001b[1;33m)\u001b[0m\u001b[1;33m\u001b[0m\u001b[0m\n\u001b[0m",
      "\u001b[1;31mNameError\u001b[0m: name 'PlayEpisode' is not defined"
     ]
    }
   ],
   "source": [
    "PlayEpisode(env, ac1.CleanPolicy(), True)"
   ]
  },
  {
   "cell_type": "code",
   "execution_count": 22,
   "metadata": {
    "collapsed": false
   },
   "outputs": [
    {
     "name": "stdout",
     "output_type": "stream",
     "text": [
      "62\n"
     ]
    }
   ],
   "source": [
    "env.reset()\n",
    "print len(PlayEpisode(env, TFPolicy(sess, policy), True)[0])"
   ]
  },
  {
   "cell_type": "code",
   "execution_count": 19,
   "metadata": {
    "collapsed": false
   },
   "outputs": [
    {
     "name": "stdout",
     "output_type": "stream",
     "text": [
      "400.0\n",
      "70.0\n",
      "109.0\n",
      "400.0\n",
      "260.0\n",
      "70.0\n",
      "218.0\n",
      "80.0\n",
      "180.0\n",
      "49.0\n"
     ]
    }
   ],
   "source": [
    "# %%prun\n",
    "for _ in range(10):\n",
    "    print LearnEpisode(env, sess, policy, value)"
   ]
  },
  {
   "cell_type": "code",
   "execution_count": null,
   "metadata": {
    "collapsed": true
   },
   "outputs": [],
   "source": [
    "for _ in range(100000):\n",
    "    LearnEpisode(env, sess, policy, value)\n",
    "print LearnEpisode(env, sess, policy, value)\n",
    "print LearnEpisode(env, sess, policy, value)\n",
    "print LearnEpisode(env, sess, policy, value)\n",
    "# print np.mean([LearnEpisode(env, sess, policy, value) for _ in range(100)])"
   ]
  },
  {
   "cell_type": "code",
   "execution_count": 47,
   "metadata": {
    "collapsed": true
   },
   "outputs": [
    {
     "ename": "OSError",
     "evalue": "[Errno 12] Cannot allocate memory",
     "output_type": "error",
     "traceback": [
      "\u001b[1;31m---------------------------------------------------------------------------\u001b[0m",
      "\u001b[1;31mOSError\u001b[0m                                   Traceback (most recent call last)",
      "\u001b[1;32m<ipython-input-47-4715bcd45f3f>\u001b[0m in \u001b[0;36m<module>\u001b[1;34m()\u001b[0m\n\u001b[0;32m      1\u001b[0m \u001b[0menv\u001b[0m\u001b[1;33m.\u001b[0m\u001b[0mreset\u001b[0m\u001b[1;33m(\u001b[0m\u001b[1;33m)\u001b[0m\u001b[1;33m\u001b[0m\u001b[0m\n\u001b[1;32m----> 2\u001b[1;33m \u001b[0mPlayEpisode\u001b[0m\u001b[1;33m(\u001b[0m\u001b[0menv\u001b[0m\u001b[1;33m,\u001b[0m \u001b[0mTFPolicy\u001b[0m\u001b[1;33m(\u001b[0m\u001b[0msess\u001b[0m\u001b[1;33m,\u001b[0m \u001b[0mpolicy\u001b[0m\u001b[1;33m)\u001b[0m\u001b[1;33m,\u001b[0m \u001b[0mTrue\u001b[0m\u001b[1;33m)\u001b[0m\u001b[1;33m\u001b[0m\u001b[0m\n\u001b[0m",
      "\u001b[1;32m<ipython-input-5-ea7edb2856ee>\u001b[0m in \u001b[0;36mPlayEpisode\u001b[1;34m(env, policy, render, max_steps)\u001b[0m\n\u001b[0;32m      6\u001b[0m     \u001b[1;32mwhile\u001b[0m \u001b[1;32mnot\u001b[0m \u001b[0mdone\u001b[0m \u001b[1;32mand\u001b[0m \u001b[1;33m(\u001b[0m\u001b[0mmax_steps\u001b[0m \u001b[1;32mis\u001b[0m \u001b[0mNone\u001b[0m \u001b[1;32mor\u001b[0m \u001b[0msteps\u001b[0m \u001b[1;33m<\u001b[0m \u001b[0mmax_steps\u001b[0m\u001b[1;33m)\u001b[0m\u001b[1;33m:\u001b[0m\u001b[1;33m\u001b[0m\u001b[0m\n\u001b[0;32m      7\u001b[0m         \u001b[1;32mif\u001b[0m \u001b[0mrender\u001b[0m\u001b[1;33m:\u001b[0m\u001b[1;33m\u001b[0m\u001b[0m\n\u001b[1;32m----> 8\u001b[1;33m             \u001b[0menv\u001b[0m\u001b[1;33m.\u001b[0m\u001b[0mrender\u001b[0m\u001b[1;33m(\u001b[0m\u001b[1;33m)\u001b[0m\u001b[1;33m\u001b[0m\u001b[0m\n\u001b[0m\u001b[0;32m      9\u001b[0m \u001b[1;33m\u001b[0m\u001b[0m\n\u001b[0;32m     10\u001b[0m         \u001b[1;32mif\u001b[0m \u001b[0mobservation\u001b[0m \u001b[1;32mis\u001b[0m \u001b[0mNone\u001b[0m\u001b[1;33m:\u001b[0m\u001b[1;33m\u001b[0m\u001b[0m\n",
      "\u001b[1;32m/home/vertix/deps/gym/gym/core.pyc\u001b[0m in \u001b[0;36mrender\u001b[1;34m(self, mode, close)\u001b[0m\n\u001b[0;32m    190\u001b[0m             \u001b[1;32mraise\u001b[0m \u001b[0merror\u001b[0m\u001b[1;33m.\u001b[0m\u001b[0mUnsupportedMode\u001b[0m\u001b[1;33m(\u001b[0m\u001b[1;34m'Unsupported rendering mode: {}. (Supported modes for {}: {})'\u001b[0m\u001b[1;33m.\u001b[0m\u001b[0mformat\u001b[0m\u001b[1;33m(\u001b[0m\u001b[0mmode\u001b[0m\u001b[1;33m,\u001b[0m \u001b[0mself\u001b[0m\u001b[1;33m,\u001b[0m \u001b[0mmodes\u001b[0m\u001b[1;33m)\u001b[0m\u001b[1;33m)\u001b[0m\u001b[1;33m\u001b[0m\u001b[0m\n\u001b[0;32m    191\u001b[0m \u001b[1;33m\u001b[0m\u001b[0m\n\u001b[1;32m--> 192\u001b[1;33m         \u001b[1;32mreturn\u001b[0m \u001b[0mself\u001b[0m\u001b[1;33m.\u001b[0m\u001b[0m_render\u001b[0m\u001b[1;33m(\u001b[0m\u001b[0mmode\u001b[0m\u001b[1;33m=\u001b[0m\u001b[0mmode\u001b[0m\u001b[1;33m,\u001b[0m \u001b[0mclose\u001b[0m\u001b[1;33m=\u001b[0m\u001b[0mclose\u001b[0m\u001b[1;33m)\u001b[0m\u001b[1;33m\u001b[0m\u001b[0m\n\u001b[0m\u001b[0;32m    193\u001b[0m \u001b[1;33m\u001b[0m\u001b[0m\n\u001b[0;32m    194\u001b[0m     \u001b[1;32mdef\u001b[0m \u001b[0mclose\u001b[0m\u001b[1;33m(\u001b[0m\u001b[0mself\u001b[0m\u001b[1;33m)\u001b[0m\u001b[1;33m:\u001b[0m\u001b[1;33m\u001b[0m\u001b[0m\n",
      "\u001b[1;32m/home/vertix/deps/gym/gym/envs/classic_control/mountain_car.pyc\u001b[0m in \u001b[0;36m_render\u001b[1;34m(self, mode, close)\u001b[0m\n\u001b[0;32m     76\u001b[0m \u001b[1;33m\u001b[0m\u001b[0m\n\u001b[0;32m     77\u001b[0m         \u001b[1;32mif\u001b[0m \u001b[0mself\u001b[0m\u001b[1;33m.\u001b[0m\u001b[0mviewer\u001b[0m \u001b[1;32mis\u001b[0m \u001b[0mNone\u001b[0m\u001b[1;33m:\u001b[0m\u001b[1;33m\u001b[0m\u001b[0m\n\u001b[1;32m---> 78\u001b[1;33m             \u001b[1;32mfrom\u001b[0m \u001b[0mgym\u001b[0m\u001b[1;33m.\u001b[0m\u001b[0menvs\u001b[0m\u001b[1;33m.\u001b[0m\u001b[0mclassic_control\u001b[0m \u001b[1;32mimport\u001b[0m \u001b[0mrendering\u001b[0m\u001b[1;33m\u001b[0m\u001b[0m\n\u001b[0m\u001b[0;32m     79\u001b[0m             \u001b[0mself\u001b[0m\u001b[1;33m.\u001b[0m\u001b[0mviewer\u001b[0m \u001b[1;33m=\u001b[0m \u001b[0mrendering\u001b[0m\u001b[1;33m.\u001b[0m\u001b[0mViewer\u001b[0m\u001b[1;33m(\u001b[0m\u001b[0mscreen_width\u001b[0m\u001b[1;33m,\u001b[0m \u001b[0mscreen_height\u001b[0m\u001b[1;33m)\u001b[0m\u001b[1;33m\u001b[0m\u001b[0m\n\u001b[0;32m     80\u001b[0m             \u001b[0mxs\u001b[0m \u001b[1;33m=\u001b[0m \u001b[0mnp\u001b[0m\u001b[1;33m.\u001b[0m\u001b[0mlinspace\u001b[0m\u001b[1;33m(\u001b[0m\u001b[0mself\u001b[0m\u001b[1;33m.\u001b[0m\u001b[0mmin_position\u001b[0m\u001b[1;33m,\u001b[0m \u001b[0mself\u001b[0m\u001b[1;33m.\u001b[0m\u001b[0mmax_position\u001b[0m\u001b[1;33m,\u001b[0m \u001b[1;36m100\u001b[0m\u001b[1;33m)\u001b[0m\u001b[1;33m\u001b[0m\u001b[0m\n",
      "\u001b[1;32m/home/vertix/deps/gym/gym/envs/classic_control/rendering.py\u001b[0m in \u001b[0;36m<module>\u001b[1;34m()\u001b[0m\n\u001b[0;32m     21\u001b[0m \u001b[1;33m\u001b[0m\u001b[0m\n\u001b[0;32m     22\u001b[0m \u001b[1;32mtry\u001b[0m\u001b[1;33m:\u001b[0m\u001b[1;33m\u001b[0m\u001b[0m\n\u001b[1;32m---> 23\u001b[1;33m     \u001b[1;32mfrom\u001b[0m \u001b[0mpyglet\u001b[0m\u001b[1;33m.\u001b[0m\u001b[0mgl\u001b[0m \u001b[1;32mimport\u001b[0m \u001b[1;33m*\u001b[0m\u001b[1;33m\u001b[0m\u001b[0m\n\u001b[0m\u001b[0;32m     24\u001b[0m \u001b[1;32mexcept\u001b[0m \u001b[0mImportError\u001b[0m \u001b[1;32mas\u001b[0m \u001b[0me\u001b[0m\u001b[1;33m:\u001b[0m\u001b[1;33m\u001b[0m\u001b[0m\n\u001b[0;32m     25\u001b[0m     \u001b[0mreraise\u001b[0m\u001b[1;33m(\u001b[0m\u001b[0mprefix\u001b[0m\u001b[1;33m=\u001b[0m\u001b[1;34m\"Error occured while running `from pyglet.gl import *`\"\u001b[0m\u001b[1;33m,\u001b[0m\u001b[0msuffix\u001b[0m\u001b[1;33m=\u001b[0m\u001b[1;34m\"HINT: make sure you have OpenGL install. On Ubuntu, you can run 'apt-get install python-opengl'. If you're running on a server, you may need a virtual frame buffer; something like this should work: 'xvfb-run -s \\\"-screen 0 1400x900x24\\\" python <your_script.py>'\"\u001b[0m\u001b[1;33m)\u001b[0m\u001b[1;33m\u001b[0m\u001b[0m\n",
      "\u001b[1;32m/home/vertix/anaconda2/lib/python2.7/site-packages/pyglet/gl/__init__.py\u001b[0m in \u001b[0;36m<module>\u001b[1;34m()\u001b[0m\n\u001b[0;32m     95\u001b[0m \u001b[0m__version__\u001b[0m \u001b[1;33m=\u001b[0m \u001b[1;34m'$Id$'\u001b[0m\u001b[1;33m\u001b[0m\u001b[0m\n\u001b[0;32m     96\u001b[0m \u001b[1;33m\u001b[0m\u001b[0m\n\u001b[1;32m---> 97\u001b[1;33m \u001b[1;32mfrom\u001b[0m \u001b[0mpyglet\u001b[0m\u001b[1;33m.\u001b[0m\u001b[0mgl\u001b[0m\u001b[1;33m.\u001b[0m\u001b[0mlib\u001b[0m \u001b[1;32mimport\u001b[0m \u001b[0mGLException\u001b[0m\u001b[1;33m\u001b[0m\u001b[0m\n\u001b[0m\u001b[0;32m     98\u001b[0m \u001b[1;32mfrom\u001b[0m \u001b[0mpyglet\u001b[0m\u001b[1;33m.\u001b[0m\u001b[0mgl\u001b[0m\u001b[1;33m.\u001b[0m\u001b[0mgl\u001b[0m \u001b[1;32mimport\u001b[0m \u001b[1;33m*\u001b[0m\u001b[1;33m\u001b[0m\u001b[0m\n\u001b[0;32m     99\u001b[0m \u001b[1;32mfrom\u001b[0m \u001b[0mpyglet\u001b[0m\u001b[1;33m.\u001b[0m\u001b[0mgl\u001b[0m\u001b[1;33m.\u001b[0m\u001b[0mglu\u001b[0m \u001b[1;32mimport\u001b[0m \u001b[1;33m*\u001b[0m\u001b[1;33m\u001b[0m\u001b[0m\n",
      "\u001b[1;32m/home/vertix/anaconda2/lib/python2.7/site-packages/pyglet/gl/lib.py\u001b[0m in \u001b[0;36m<module>\u001b[1;34m()\u001b[0m\n\u001b[0;32m    140\u001b[0m     \u001b[1;32mfrom\u001b[0m \u001b[0mpyglet\u001b[0m\u001b[1;33m.\u001b[0m\u001b[0mgl\u001b[0m\u001b[1;33m.\u001b[0m\u001b[0mlib_agl\u001b[0m \u001b[1;32mimport\u001b[0m \u001b[0mlink_GL\u001b[0m\u001b[1;33m,\u001b[0m \u001b[0mlink_GLU\u001b[0m\u001b[1;33m,\u001b[0m \u001b[0mlink_AGL\u001b[0m\u001b[1;33m\u001b[0m\u001b[0m\n\u001b[0;32m    141\u001b[0m \u001b[1;32melse\u001b[0m\u001b[1;33m:\u001b[0m\u001b[1;33m\u001b[0m\u001b[0m\n\u001b[1;32m--> 142\u001b[1;33m     \u001b[1;32mfrom\u001b[0m \u001b[0mpyglet\u001b[0m\u001b[1;33m.\u001b[0m\u001b[0mgl\u001b[0m\u001b[1;33m.\u001b[0m\u001b[0mlib_glx\u001b[0m \u001b[1;32mimport\u001b[0m \u001b[0mlink_GL\u001b[0m\u001b[1;33m,\u001b[0m \u001b[0mlink_GLU\u001b[0m\u001b[1;33m,\u001b[0m \u001b[0mlink_GLX\u001b[0m\u001b[1;33m\u001b[0m\u001b[0m\n\u001b[0m\u001b[0;32m    143\u001b[0m \u001b[1;33m\u001b[0m\u001b[0m\n",
      "\u001b[1;32m/home/vertix/anaconda2/lib/python2.7/site-packages/pyglet/gl/lib_glx.py\u001b[0m in \u001b[0;36m<module>\u001b[1;34m()\u001b[0m\n\u001b[0;32m     48\u001b[0m \u001b[0m__all__\u001b[0m \u001b[1;33m=\u001b[0m \u001b[1;33m[\u001b[0m\u001b[1;34m'link_GL'\u001b[0m\u001b[1;33m,\u001b[0m \u001b[1;34m'link_GLU'\u001b[0m\u001b[1;33m,\u001b[0m \u001b[1;34m'link_GLX'\u001b[0m\u001b[1;33m]\u001b[0m\u001b[1;33m\u001b[0m\u001b[0m\n\u001b[0;32m     49\u001b[0m \u001b[1;33m\u001b[0m\u001b[0m\n\u001b[1;32m---> 50\u001b[1;33m \u001b[0mgl_lib\u001b[0m \u001b[1;33m=\u001b[0m \u001b[0mpyglet\u001b[0m\u001b[1;33m.\u001b[0m\u001b[0mlib\u001b[0m\u001b[1;33m.\u001b[0m\u001b[0mload_library\u001b[0m\u001b[1;33m(\u001b[0m\u001b[1;34m'GL'\u001b[0m\u001b[1;33m)\u001b[0m\u001b[1;33m\u001b[0m\u001b[0m\n\u001b[0m\u001b[0;32m     51\u001b[0m \u001b[0mglu_lib\u001b[0m \u001b[1;33m=\u001b[0m \u001b[0mpyglet\u001b[0m\u001b[1;33m.\u001b[0m\u001b[0mlib\u001b[0m\u001b[1;33m.\u001b[0m\u001b[0mload_library\u001b[0m\u001b[1;33m(\u001b[0m\u001b[1;34m'GLU'\u001b[0m\u001b[1;33m)\u001b[0m\u001b[1;33m\u001b[0m\u001b[0m\n\u001b[0;32m     52\u001b[0m \u001b[1;33m\u001b[0m\u001b[0m\n",
      "\u001b[1;32m/home/vertix/anaconda2/lib/python2.7/site-packages/pyglet/lib.pyc\u001b[0m in \u001b[0;36mload_library\u001b[1;34m(self, *names, **kwargs)\u001b[0m\n\u001b[0;32m    127\u001b[0m         \u001b[1;32mif\u001b[0m \u001b[0mself\u001b[0m\u001b[1;33m.\u001b[0m\u001b[0mplatform\u001b[0m\u001b[1;33m.\u001b[0m\u001b[0mstartswith\u001b[0m\u001b[1;33m(\u001b[0m\u001b[1;34m'linux'\u001b[0m\u001b[1;33m)\u001b[0m\u001b[1;33m:\u001b[0m\u001b[1;33m\u001b[0m\u001b[0m\n\u001b[0;32m    128\u001b[0m             \u001b[1;32mfor\u001b[0m \u001b[0mname\u001b[0m \u001b[1;32min\u001b[0m \u001b[0mnames\u001b[0m\u001b[1;33m:\u001b[0m\u001b[1;33m\u001b[0m\u001b[0m\n\u001b[1;32m--> 129\u001b[1;33m                 \u001b[0mlibname\u001b[0m \u001b[1;33m=\u001b[0m \u001b[0mself\u001b[0m\u001b[1;33m.\u001b[0m\u001b[0mfind_library\u001b[0m\u001b[1;33m(\u001b[0m\u001b[0mname\u001b[0m\u001b[1;33m)\u001b[0m\u001b[1;33m\u001b[0m\u001b[0m\n\u001b[0m\u001b[0;32m    130\u001b[0m                 \u001b[0mplatform_names\u001b[0m\u001b[1;33m.\u001b[0m\u001b[0mappend\u001b[0m\u001b[1;33m(\u001b[0m\u001b[0mlibname\u001b[0m \u001b[1;32mor\u001b[0m \u001b[1;34m'lib%s.so'\u001b[0m \u001b[1;33m%\u001b[0m \u001b[0mname\u001b[0m\u001b[1;33m)\u001b[0m\u001b[1;33m\u001b[0m\u001b[0m\n\u001b[0;32m    131\u001b[0m \u001b[1;33m\u001b[0m\u001b[0m\n",
      "\u001b[1;32m/home/vertix/anaconda2/lib/python2.7/site-packages/pyglet/lib.pyc\u001b[0m in \u001b[0;36mfind_library\u001b[1;34m(self, path)\u001b[0m\n\u001b[0;32m    349\u001b[0m         \u001b[1;31m# the man page.\u001b[0m\u001b[1;33m\u001b[0m\u001b[1;33m\u001b[0m\u001b[0m\n\u001b[0;32m    350\u001b[0m \u001b[1;33m\u001b[0m\u001b[0m\n\u001b[1;32m--> 351\u001b[1;33m         \u001b[0mresult\u001b[0m \u001b[1;33m=\u001b[0m \u001b[0mctypes\u001b[0m\u001b[1;33m.\u001b[0m\u001b[0mutil\u001b[0m\u001b[1;33m.\u001b[0m\u001b[0mfind_library\u001b[0m\u001b[1;33m(\u001b[0m\u001b[0mpath\u001b[0m\u001b[1;33m)\u001b[0m\u001b[1;33m\u001b[0m\u001b[0m\n\u001b[0m\u001b[0;32m    352\u001b[0m         \u001b[1;32mif\u001b[0m \u001b[0mresult\u001b[0m\u001b[1;33m:\u001b[0m\u001b[1;33m\u001b[0m\u001b[0m\n\u001b[0;32m    353\u001b[0m             \u001b[1;32mreturn\u001b[0m \u001b[0mresult\u001b[0m\u001b[1;33m\u001b[0m\u001b[0m\n",
      "\u001b[1;32m/home/vertix/anaconda2/lib/python2.7/ctypes/util.pyc\u001b[0m in \u001b[0;36mfind_library\u001b[1;34m(name)\u001b[0m\n\u001b[0;32m    240\u001b[0m \u001b[1;33m\u001b[0m\u001b[0m\n\u001b[0;32m    241\u001b[0m         \u001b[1;32mdef\u001b[0m \u001b[0mfind_library\u001b[0m\u001b[1;33m(\u001b[0m\u001b[0mname\u001b[0m\u001b[1;33m)\u001b[0m\u001b[1;33m:\u001b[0m\u001b[1;33m\u001b[0m\u001b[0m\n\u001b[1;32m--> 242\u001b[1;33m             \u001b[1;32mreturn\u001b[0m \u001b[0m_findSoname_ldconfig\u001b[0m\u001b[1;33m(\u001b[0m\u001b[0mname\u001b[0m\u001b[1;33m)\u001b[0m \u001b[1;32mor\u001b[0m \u001b[0m_get_soname\u001b[0m\u001b[1;33m(\u001b[0m\u001b[0m_findLib_gcc\u001b[0m\u001b[1;33m(\u001b[0m\u001b[0mname\u001b[0m\u001b[1;33m)\u001b[0m\u001b[1;33m)\u001b[0m\u001b[1;33m\u001b[0m\u001b[0m\n\u001b[0m\u001b[0;32m    243\u001b[0m \u001b[1;33m\u001b[0m\u001b[0m\n\u001b[0;32m    244\u001b[0m \u001b[1;31m################################################################\u001b[0m\u001b[1;33m\u001b[0m\u001b[1;33m\u001b[0m\u001b[0m\n",
      "\u001b[1;32m/home/vertix/anaconda2/lib/python2.7/ctypes/util.pyc\u001b[0m in \u001b[0;36m_findSoname_ldconfig\u001b[1;34m(name)\u001b[0m\n\u001b[0;32m    229\u001b[0m             \u001b[1;31m# XXX assuming GLIBC's ldconfig (with option -p)\u001b[0m\u001b[1;33m\u001b[0m\u001b[1;33m\u001b[0m\u001b[0m\n\u001b[0;32m    230\u001b[0m             \u001b[0mexpr\u001b[0m \u001b[1;33m=\u001b[0m \u001b[1;34mr'\\s+(lib%s\\.[^\\s]+)\\s+\\(%s'\u001b[0m \u001b[1;33m%\u001b[0m \u001b[1;33m(\u001b[0m\u001b[0mre\u001b[0m\u001b[1;33m.\u001b[0m\u001b[0mescape\u001b[0m\u001b[1;33m(\u001b[0m\u001b[0mname\u001b[0m\u001b[1;33m)\u001b[0m\u001b[1;33m,\u001b[0m \u001b[0mabi_type\u001b[0m\u001b[1;33m)\u001b[0m\u001b[1;33m\u001b[0m\u001b[0m\n\u001b[1;32m--> 231\u001b[1;33m             \u001b[0mf\u001b[0m \u001b[1;33m=\u001b[0m \u001b[0mos\u001b[0m\u001b[1;33m.\u001b[0m\u001b[0mpopen\u001b[0m\u001b[1;33m(\u001b[0m\u001b[1;34m'/sbin/ldconfig -p 2>/dev/null'\u001b[0m\u001b[1;33m)\u001b[0m\u001b[1;33m\u001b[0m\u001b[0m\n\u001b[0m\u001b[0;32m    232\u001b[0m             \u001b[1;32mtry\u001b[0m\u001b[1;33m:\u001b[0m\u001b[1;33m\u001b[0m\u001b[0m\n\u001b[0;32m    233\u001b[0m                 \u001b[0mdata\u001b[0m \u001b[1;33m=\u001b[0m \u001b[0mf\u001b[0m\u001b[1;33m.\u001b[0m\u001b[0mread\u001b[0m\u001b[1;33m(\u001b[0m\u001b[1;33m)\u001b[0m\u001b[1;33m\u001b[0m\u001b[0m\n",
      "\u001b[1;31mOSError\u001b[0m: [Errno 12] Cannot allocate memory"
     ]
    }
   ],
   "source": [
    "env.reset()\n",
    "PlayEpisode(env, TFPolicy(sess, policy), True)"
   ]
  },
  {
   "cell_type": "code",
   "execution_count": null,
   "metadata": {
    "collapsed": true
   },
   "outputs": [],
   "source": []
  }
 ],
 "metadata": {
  "anaconda-cloud": {},
  "kernelspec": {
   "display_name": "Python [default]",
   "language": "python",
   "name": "python2"
  },
  "language_info": {
   "codemirror_mode": {
    "name": "ipython",
    "version": 2
   },
   "file_extension": ".py",
   "mimetype": "text/x-python",
   "name": "python",
   "nbconvert_exporter": "python",
   "pygments_lexer": "ipython2",
   "version": "2.7.12"
  }
 },
 "nbformat": 4,
 "nbformat_minor": 0
}
