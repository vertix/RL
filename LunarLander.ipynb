{
 "cells": [
  {
   "cell_type": "code",
   "execution_count": 1,
   "metadata": {
    "collapsed": true
   },
   "outputs": [],
   "source": [
    "import threading\n",
    "import gym\n",
    "import tensorflow as tf"
   ]
  },
  {
   "cell_type": "code",
   "execution_count": 2,
   "metadata": {
    "collapsed": true
   },
   "outputs": [],
   "source": [
    "import rl"
   ]
  },
  {
   "cell_type": "code",
   "execution_count": 5,
   "metadata": {
    "collapsed": false,
    "scrolled": false
   },
   "outputs": [
    {
     "name": "stderr",
     "output_type": "stream",
     "text": [
      "[2016-11-06 10:38:34,397] Making new env: LunarLander-v2\n"
     ]
    }
   ],
   "source": [
    "env = gym.make('LunarLander-v2')"
   ]
  },
  {
   "cell_type": "code",
   "execution_count": 6,
   "metadata": {
    "collapsed": false
   },
   "outputs": [
    {
     "data": {
      "text/plain": [
       "Box(8,)"
      ]
     },
     "execution_count": 6,
     "metadata": {},
     "output_type": "execute_result"
    }
   ],
   "source": [
    "env.observation_space"
   ]
  },
  {
   "cell_type": "code",
   "execution_count": 7,
   "metadata": {
    "collapsed": false
   },
   "outputs": [
    {
     "data": {
      "text/plain": [
       "Discrete(4)"
      ]
     },
     "execution_count": 7,
     "metadata": {},
     "output_type": "execute_result"
    }
   ],
   "source": [
    "env.action_space"
   ]
  },
  {
   "cell_type": "code",
   "execution_count": 8,
   "metadata": {
    "collapsed": true
   },
   "outputs": [],
   "source": [
    "def Networks(env, states, hidden_num):\n",
    "    \"\"\"Maps states tensor to the pair of policy and value tensors.\"\"\"\n",
    "    with tf.device(\"/cpu:0\"):\n",
    "        with tf.variable_scope('common'):\n",
    "            hidden = tf.contrib.layers.relu(states, hidden_num,\n",
    "                                            weights_initializer=tf.truncated_normal_initializer(stddev=1.),\n",
    "                                            biases_initializer=tf.constant_initializer(0.1))\n",
    "        with tf.variable_scope('policy'):\n",
    "            logits = tf.contrib.layers.linear(hidden, env.action_space.n)\n",
    "        with tf.variable_scope('value'):\n",
    "            value_out = tf.contrib.layers.linear(hidden, 1)\n",
    "        return logits, value_out"
   ]
  },
  {
   "cell_type": "code",
   "execution_count": 9,
   "metadata": {
    "collapsed": true
   },
   "outputs": [],
   "source": [
    "options = dict(rl.DEFAULT_OPTIONS)\n",
    "options['threads'] = 4\n",
    "options['learning_rate'] = 0.0001"
   ]
  },
  {
   "cell_type": "code",
   "execution_count": 10,
   "metadata": {
    "collapsed": false
   },
   "outputs": [
    {
     "name": "stderr",
     "output_type": "stream",
     "text": [
      "[2016-11-06 10:39:05,728] Making new env: LunarLander-v2\n"
     ]
    }
   ],
   "source": [
    "ac = rl.ActorCritic(lambda: gym.make('LunarLander-v2'),\n",
    "                    lambda env, st: Networks(env, st, 20),\n",
    "                    options=options)"
   ]
  },
  {
   "cell_type": "code",
   "execution_count": 11,
   "metadata": {
    "collapsed": true
   },
   "outputs": [],
   "source": [
    "logs_dir = '/media/vertix/UHDD/tmp/tensorflow_logs/{}/{:02d}'.format(env.spec.id, 1)\n",
    "ac.Init(logs_dir)"
   ]
  },
  {
   "cell_type": "code",
   "execution_count": 12,
   "metadata": {
    "collapsed": false
   },
   "outputs": [
    {
     "name": "stderr",
     "output_type": "stream",
     "text": [
      "[2016-11-06 10:39:13,827] Making new env: LunarLander-v2\n",
      "[2016-11-06 10:39:13,829] Making new env: LunarLander-v2\n",
      "[2016-11-06 10:39:13,829] Making new env: LunarLander-v2\n",
      "[2016-11-06 10:39:13,831] Making new env: LunarLander-v2\n"
     ]
    }
   ],
   "source": [
    "ac.Learn(10000)"
   ]
  },
  {
   "cell_type": "code",
   "execution_count": 12,
   "metadata": {
    "collapsed": false
   },
   "outputs": [
    {
     "name": "stdout",
     "output_type": "stream",
     "text": [
      "-506.566992305\n"
     ]
    }
   ],
   "source": [
    "try:\n",
    "    done = False\n",
    "    obs = env.reset()\n",
    "    r = 0\n",
    "    while not done:\n",
    "        env.render()\n",
    "        a = ac.CleanPolicy(obs)\n",
    "        obs, reward, done, _ = env.step(a)\n",
    "        r += reward\n",
    "    print r\n",
    "finally:\n",
    "    env.render(close=True)"
   ]
  },
  {
   "cell_type": "code",
   "execution_count": 11,
   "metadata": {
    "collapsed": true
   },
   "outputs": [],
   "source": [
    "ac.Close()"
   ]
  },
  {
   "cell_type": "code",
   "execution_count": null,
   "metadata": {
    "collapsed": true
   },
   "outputs": [],
   "source": []
  }
 ],
 "metadata": {
  "anaconda-cloud": {},
  "kernelspec": {
   "display_name": "Python [conda root]",
   "language": "python",
   "name": "conda-root-py"
  },
  "language_info": {
   "codemirror_mode": {
    "name": "ipython",
    "version": 2
   },
   "file_extension": ".py",
   "mimetype": "text/x-python",
   "name": "python",
   "nbconvert_exporter": "python",
   "pygments_lexer": "ipython2",
   "version": "2.7.12"
  }
 },
 "nbformat": 4,
 "nbformat_minor": 1
}
