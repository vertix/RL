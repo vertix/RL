{
 "cells": [
  {
   "cell_type": "code",
   "execution_count": 1,
   "metadata": {
    "collapsed": false
   },
   "outputs": [],
   "source": [
    "import os\n",
    "import random\n",
    "import time\n",
    "\n",
    "import numpy as np\n",
    "import tensorflow as tf\n",
    "\n",
    "import tensorflow.contrib.layers\n",
    "import gym"
   ]
  },
  {
   "cell_type": "code",
   "execution_count": 2,
   "metadata": {
    "collapsed": false
   },
   "outputs": [
    {
     "data": {
      "text/plain": [
       "<module 'tools' from 'tools.pyc'>"
      ]
     },
     "execution_count": 2,
     "metadata": {},
     "output_type": "execute_result"
    }
   ],
   "source": [
    "import tools\n",
    "reload(tools)"
   ]
  },
  {
   "cell_type": "code",
   "execution_count": 4,
   "metadata": {
    "collapsed": false
   },
   "outputs": [],
   "source": [
    "class ToTheRight(gym.Env):\n",
    "    def __init__(self, num):\n",
    "        self.num = num\n",
    "        self.state = 0.\n",
    "        self.action_space = gym.spaces.Discrete(3)\n",
    "        self.observation_space = gym.spaces.Box(0., float(num), shape=(1,))\n",
    "        self.reward_range = (-1., 1.)\n",
    "\n",
    "    def _step(self, a):\n",
    "        if a == 2:\n",
    "            r = 1\n",
    "            self.state += 1\n",
    "        elif a == 1:\n",
    "            r = -0.1\n",
    "        else:\n",
    "            r = -1\n",
    "            self.state = max(0., self.state - 1)\n",
    "        return np.array([self.state]), r, self.state >= self.num, None\n",
    "    \n",
    "    def _reset(self):\n",
    "        self.state = 0.\n",
    "        return np.array([self.state])"
   ]
  },
  {
   "cell_type": "code",
   "execution_count": 35,
   "metadata": {
    "collapsed": false
   },
   "outputs": [
    {
     "name": "stderr",
     "output_type": "stream",
     "text": [
      "[2017-03-15 08:06:22,637] Making new env: LunarLander-v2\n"
     ]
    }
   ],
   "source": [
    "env = gym.make('LunarLander-v2')"
   ]
  },
  {
   "cell_type": "code",
   "execution_count": 1291,
   "metadata": {
    "collapsed": false
   },
   "outputs": [],
   "source": [
    "env = ToTheRight(10)"
   ]
  },
  {
   "cell_type": "code",
   "execution_count": 6,
   "metadata": {
    "collapsed": true
   },
   "outputs": [],
   "source": [
    "def CartPoleQNetwork(state):\n",
    "#     state = tf.squeeze(tf.one_hot(tf.cast(state, tf.int32), 10), -2)\n",
    "    hidden1 = tf.contrib.layers.fully_connected(\n",
    "        state, 32,\n",
    "        activation_fn=tf.nn.elu,\n",
    "        weights_initializer=tf.truncated_normal_initializer(stddev=0.1),\n",
    "        weights_regularizer=tf.contrib.layers.l2_regularizer(0.001),\n",
    "        biases_initializer=tf.zeros_initializer(),\n",
    "        scope='hidden1')\n",
    "    hidden2 = tf.contrib.layers.fully_connected(\n",
    "        state, 32,\n",
    "        activation_fn=tf.nn.elu,\n",
    "        weights_initializer=tf.truncated_normal_initializer(stddev=0.1),\n",
    "        weights_regularizer=tf.contrib.layers.l2_regularizer(0.001),\n",
    "        biases_initializer=tf.zeros_initializer(),\n",
    "        scope='hidden2')\n",
    "\n",
    "    value = tf.contrib.layers.linear(hidden2, 1,\n",
    "                                     weights_initializer=tf.truncated_normal_initializer(stddev=0.01),\n",
    "#                                      weights_regularizer=tf.contrib.layers.l2_regularizer(0.001),\n",
    "                                     biases_initializer=tf.zeros_initializer(),\n",
    "                                     scope='value')\n",
    "    logits = tf.contrib.layers.linear(hidden2, env.action_space.n,\n",
    "                                      weights_initializer=tf.truncated_normal_initializer(stddev=0.01),\n",
    "#                                       weights_regularizer=tf.contrib.layers.l2_regularizer(0.001),\n",
    "                                      biases_initializer=tf.zeros_initializer(),\n",
    "                                      scope='logits')\n",
    "\n",
    "    return logits, value"
   ]
  },
  {
   "cell_type": "code",
   "execution_count": 36,
   "metadata": {
    "collapsed": true
   },
   "outputs": [],
   "source": [
    "ROLLOUT_LEN = 5\n",
    "GAMMA = 0.95\n",
    "TAU = 0.5"
   ]
  },
  {
   "cell_type": "code",
   "execution_count": 38,
   "metadata": {
    "collapsed": false
   },
   "outputs": [],
   "source": [
    "buf = tools.ExperienceBuffer(1 << 17)\n",
    "old_s = env.reset()\n",
    "done = False\n",
    "\n",
    "for _ in range(1000):\n",
    "    ss, aa, rr, ss1, gg = [], [], [], [], []\n",
    "    \n",
    "    g_ = 1.\n",
    "    r_ = 0.\n",
    "    \n",
    "    while len(aa) < ROLLOUT_LEN:\n",
    "        if not done:\n",
    "            a = env.action_space.sample()\n",
    "            s, r, done, _ = env.step(a)\n",
    "        else:\n",
    "            r = 0.\n",
    "\n",
    "        g = GAMMA if not done else 0.\n",
    "        r_ += g_ * r\n",
    "        g_ *= g\n",
    "            \n",
    "        ss.append(old_s)\n",
    "        aa.append(a)\n",
    "        gg.append(g)\n",
    "        old_s = s\n",
    "\n",
    "    if done:\n",
    "        old_s = env.reset()\n",
    "        done = False\n",
    "    \n",
    "    ss1.append(old_s)\n",
    "    buf.add(np.array([ss]), np.array([aa]), np.array(r_), np.array(ss1), np.array([gg]), 100)"
   ]
  },
  {
   "cell_type": "code",
   "execution_count": 39,
   "metadata": {
    "collapsed": false
   },
   "outputs": [],
   "source": [
    "tf.reset_default_graph()"
   ]
  },
  {
   "cell_type": "code",
   "execution_count": 40,
   "metadata": {
    "collapsed": false
   },
   "outputs": [],
   "source": [
    "state = tf.placeholder(tf.float32, shape=[None] + list(buf.ss.shape[1:]), name='state')\n",
    "action = tf.placeholder(tf.int32, shape=[None] + list(buf.aa.shape[1:]), name='action')\n",
    "reward = tf.placeholder(tf.float32, shape=[None], name='reward')\n",
    "state1 = tf.placeholder(tf.float32, shape=[None] + list(buf.ss1.shape[1:]), name='state1')\n",
    "gamma = tf.placeholder(tf.float32, shape=[None] + list(buf.gg.shape[1:]), name='gamma')"
   ]
  },
  {
   "cell_type": "code",
   "execution_count": 41,
   "metadata": {
    "collapsed": false
   },
   "outputs": [],
   "source": [
    "with tf.variable_scope('model', reuse=False):\n",
    "    logits, value = CartPoleQNetwork(state)\n",
    "with tf.variable_scope('model', reuse=True):\n",
    "    logits1, value1 = CartPoleQNetwork(state1)"
   ]
  },
  {
   "cell_type": "code",
   "execution_count": 42,
   "metadata": {
    "collapsed": false
   },
   "outputs": [],
   "source": [
    "policy = tf.reshape(tf.multinomial(logits1, 1), [])\n",
    "probs = tf.nn.softmax(logits)"
   ]
  },
  {
   "cell_type": "code",
   "execution_count": 43,
   "metadata": {
    "collapsed": false
   },
   "outputs": [],
   "source": [
    "G_unwrapped = tf.reduce_sum(tf.nn.log_softmax(logits) * tf.one_hot(action, 4), 2)\n",
    "g_unwrapped = tf.cumprod(gamma, axis=1, exclusive=True)\n",
    "G = tf.reduce_sum(G_unwrapped * g_unwrapped, axis=1)"
   ]
  },
  {
   "cell_type": "code",
   "execution_count": 44,
   "metadata": {
    "collapsed": false
   },
   "outputs": [],
   "source": [
    "delta_V = value[:, 0, :] - tf.reduce_prod(gamma, axis=1) * tf.stop_gradient(value1)\n",
    "\n",
    "error = reward - delta_V - TAU * G\n",
    "error_value = reward - delta_V - TAU * tf.stop_gradient(G)\n",
    "error_policy = (reward - tf.stop_gradient(delta_V)) / TAU - G"
   ]
  },
  {
   "cell_type": "code",
   "execution_count": 45,
   "metadata": {
    "collapsed": true
   },
   "outputs": [],
   "source": [
    "loss = tf.reduce_mean(\n",
    "    0.5 * tools.HuberLoss(error_value, 10) + tools.HuberLoss(error_policy, 10))"
   ]
  },
  {
   "cell_type": "code",
   "execution_count": 46,
   "metadata": {
    "collapsed": false
   },
   "outputs": [
    {
     "data": {
      "text/plain": [
       "[]"
      ]
     },
     "execution_count": 46,
     "metadata": {},
     "output_type": "execute_result"
    }
   ],
   "source": [
    "tf.summary.histogram('Monitor/TD_Error', error)\n",
    "tf.summary.histogram('Monitor/Q', value)\n",
    "tf.summary.histogram('Monitor/Logits', logits)\n",
    "tf.summary.histogram('Monitor/Probs', probs)\n",
    "tf.summary.scalar(\"Scalars/Q\", tf.reduce_mean(value))\n",
    "tf.summary.scalar(\"Scalars/Total_Loss\", loss)\n",
    "tf.summary.scalar(\"Scalars/Value_Loss\", tf.reduce_mean(reward - delta_V))\n",
    "tf.summary.scalar(\"Scalars/Policy_Loss\", tf.reduce_mean(G))\n",
    "\n",
    "tf.summary.scalar(\"Scalars/TD_Error\", tf.reduce_mean(error))\n",
    "tf.summary.scalar(\"Scalars/Delta_V\", tf.reduce_mean(delta_V))\n",
    "tf.summary.scalar(\"Scalars/G\", tf.reduce_mean(G_unwrapped))\n",
    "\n",
    "tf.summary.scalar(\"Scalars/Entropy\", \n",
    "                  tf.reduce_mean(tf.reduce_sum(-probs * tf.nn.log_softmax(logits), axis=2)))\n",
    "tf.summary.scalar(\"Scalars/Prob/Max\", \n",
    "                  tf.reduce_mean(tf.reduce_max(probs, axis=2)))\n",
    "tf.summary.scalar(\"Scalars/Prob/Min\", \n",
    "                  tf.reduce_mean(tf.reduce_min(probs, axis=2)))\n",
    "\n",
    "tf.contrib.layers.summarize_activations()"
   ]
  },
  {
   "cell_type": "code",
   "execution_count": 47,
   "metadata": {
    "collapsed": true
   },
   "outputs": [],
   "source": [
    "# optimizer = tf.train.AdamOptimizer(0.0001)\n",
    "# variables = tf.get_collection(tf.GraphKeys.TRAINABLE_VARIABLES, 'model')\n",
    "# grads_policy = optimizer.compute_gradients(tf.reduce_mean(error_policy), variables)\n",
    "# grads_policy = tools.ClipGradient(grads_policy, 10.)\n",
    "\n",
    "# grads_value = optimizer.compute_gradients(tf.reduce_mean(error_value), variables)\n",
    "# grads_value = tools.ClipGradient(grads_value, 10.)"
   ]
  },
  {
   "cell_type": "code",
   "execution_count": 48,
   "metadata": {
    "collapsed": false
   },
   "outputs": [],
   "source": [
    "optimizer = tf.train.AdamOptimizer(0.0001)\n",
    "variables = tf.get_collection(tf.GraphKeys.TRAINABLE_VARIABLES, 'model')\n",
    "grads = optimizer.compute_gradients(loss, variables)\n",
    "grads = tools.ClipGradient(grads, 100.)\n",
    "\n",
    "# for grad, v in grads:\n",
    "#     if grad is not None:\n",
    "#         tf.summary.histogram('{}/grad'.format(v.name), grad)"
   ]
  },
  {
   "cell_type": "code",
   "execution_count": 49,
   "metadata": {
    "collapsed": true
   },
   "outputs": [],
   "source": [
    "global_step = tf.Variable(0, name='global_step', trainable=False)"
   ]
  },
  {
   "cell_type": "code",
   "execution_count": 50,
   "metadata": {
    "collapsed": false
   },
   "outputs": [],
   "source": [
    "train_op = tf.group(optimizer.apply_gradients(grads, global_step))\n",
    "\n",
    "# train_op_policy = optimizer.apply_gradients(grads_policy, global_step)\n",
    "# train_op_value = optimizer.apply_gradients(grads_value, global_step)"
   ]
  },
  {
   "cell_type": "code",
   "execution_count": 51,
   "metadata": {
    "collapsed": true
   },
   "outputs": [],
   "source": [
    "tf.contrib.layers.summarize_collection(tf.GraphKeys.GLOBAL_VARIABLES)\n",
    "tf.contrib.layers.summarize_activations()\n",
    "summary_op = tf.summary.merge_all()"
   ]
  },
  {
   "cell_type": "code",
   "execution_count": 52,
   "metadata": {
    "collapsed": false
   },
   "outputs": [],
   "source": [
    "sess.close()\n",
    "# tf.reset_default_graph()\n",
    "sess = tf.InteractiveSession()"
   ]
  },
  {
   "cell_type": "code",
   "execution_count": 53,
   "metadata": {
    "collapsed": true
   },
   "outputs": [],
   "source": [
    "sess.run(tf.global_variables_initializer())"
   ]
  },
  {
   "cell_type": "code",
   "execution_count": 54,
   "metadata": {
    "collapsed": true
   },
   "outputs": [],
   "source": [
    "writer = tf.summary.FileWriter('log2/LunarLander/pcl-mul')\n",
    "writer.add_graph(tf.get_default_graph())"
   ]
  },
  {
   "cell_type": "code",
   "execution_count": 55,
   "metadata": {
    "collapsed": true
   },
   "outputs": [],
   "source": [
    "def Step(ss, aa, rr, ss1, gg):\n",
    "    step = sess.run(global_step)\n",
    "\n",
    "    if step > 1 and step % 500 == 0:\n",
    "        sumr, _ = sess.run([summary_op, train_op],\n",
    "                           {state: ss, action: aa, reward: rr,\n",
    "                            state1: ss1, gamma: gg})\n",
    "        writer.add_summary(sumr, step)\n",
    "    else:\n",
    "        sess.run(train_op, {state: ss, action: aa, reward: rr,\n",
    "                            state1: ss1, gamma: gg})\n",
    "        \n",
    "#     if step > 1 and step % 10000 == 0:\n",
    "#         sess.run(copy_op)"
   ]
  },
  {
   "cell_type": "code",
   "execution_count": 56,
   "metadata": {
    "collapsed": false
   },
   "outputs": [
    {
     "ename": "KeyboardInterrupt",
     "evalue": "",
     "output_type": "error",
     "traceback": [
      "\u001b[0;31m---------------------------------------------------------------------------\u001b[0m",
      "\u001b[0;31mKeyboardInterrupt\u001b[0m                         Traceback (most recent call last)",
      "\u001b[0;32m<ipython-input-56-ce842c7d0085>\u001b[0m in \u001b[0;36m<module>\u001b[0;34m()\u001b[0m\n\u001b[1;32m     11\u001b[0m         \u001b[0;32mif\u001b[0m \u001b[0;32mnot\u001b[0m \u001b[0mdone\u001b[0m\u001b[0;34m:\u001b[0m\u001b[0;34m\u001b[0m\u001b[0m\n\u001b[1;32m     12\u001b[0m             \u001b[0ma\u001b[0m \u001b[0;34m=\u001b[0m \u001b[0msess\u001b[0m\u001b[0;34m.\u001b[0m\u001b[0mrun\u001b[0m\u001b[0;34m(\u001b[0m\u001b[0mpolicy\u001b[0m\u001b[0;34m,\u001b[0m \u001b[0;34m{\u001b[0m\u001b[0mstate1\u001b[0m\u001b[0;34m:\u001b[0m \u001b[0mnp\u001b[0m\u001b[0;34m.\u001b[0m\u001b[0mexpand_dims\u001b[0m\u001b[0;34m(\u001b[0m\u001b[0mold_s\u001b[0m\u001b[0;34m,\u001b[0m \u001b[0;36m0\u001b[0m\u001b[0;34m)\u001b[0m\u001b[0;34m}\u001b[0m\u001b[0;34m)\u001b[0m\u001b[0;34m\u001b[0m\u001b[0m\n\u001b[0;32m---> 13\u001b[0;31m             \u001b[0ms\u001b[0m\u001b[0;34m,\u001b[0m \u001b[0mr\u001b[0m\u001b[0;34m,\u001b[0m \u001b[0mdone\u001b[0m\u001b[0;34m,\u001b[0m \u001b[0m_\u001b[0m \u001b[0;34m=\u001b[0m \u001b[0menv\u001b[0m\u001b[0;34m.\u001b[0m\u001b[0mstep\u001b[0m\u001b[0;34m(\u001b[0m\u001b[0ma\u001b[0m\u001b[0;34m)\u001b[0m\u001b[0;34m\u001b[0m\u001b[0m\n\u001b[0m\u001b[1;32m     14\u001b[0m             \u001b[0mepisode_rew\u001b[0m \u001b[0;34m+=\u001b[0m \u001b[0mr\u001b[0m\u001b[0;34m\u001b[0m\u001b[0m\n\u001b[1;32m     15\u001b[0m             \u001b[0mepisode_len\u001b[0m \u001b[0;34m+=\u001b[0m \u001b[0;36m1\u001b[0m\u001b[0;34m\u001b[0m\u001b[0m\n",
      "\u001b[0;32m/Users/vertix/Documents/gym/gym/core.pyc\u001b[0m in \u001b[0;36mstep\u001b[0;34m(self, action)\u001b[0m\n\u001b[1;32m    108\u001b[0m             \u001b[0minfo\u001b[0m \u001b[0;34m(\u001b[0m\u001b[0mdict\u001b[0m\u001b[0;34m)\u001b[0m\u001b[0;34m:\u001b[0m \u001b[0mcontains\u001b[0m \u001b[0mauxiliary\u001b[0m \u001b[0mdiagnostic\u001b[0m \u001b[0minformation\u001b[0m \u001b[0;34m(\u001b[0m\u001b[0mhelpful\u001b[0m \u001b[0;32mfor\u001b[0m \u001b[0mdebugging\u001b[0m\u001b[0;34m,\u001b[0m \u001b[0;32mand\u001b[0m \u001b[0msometimes\u001b[0m \u001b[0mlearning\u001b[0m\u001b[0;34m)\u001b[0m\u001b[0;34m\u001b[0m\u001b[0m\n\u001b[1;32m    109\u001b[0m         \"\"\"\n\u001b[0;32m--> 110\u001b[0;31m         \u001b[0mobservation\u001b[0m\u001b[0;34m,\u001b[0m \u001b[0mreward\u001b[0m\u001b[0;34m,\u001b[0m \u001b[0mdone\u001b[0m\u001b[0;34m,\u001b[0m \u001b[0minfo\u001b[0m \u001b[0;34m=\u001b[0m \u001b[0mself\u001b[0m\u001b[0;34m.\u001b[0m\u001b[0m_step\u001b[0m\u001b[0;34m(\u001b[0m\u001b[0maction\u001b[0m\u001b[0;34m)\u001b[0m\u001b[0;34m\u001b[0m\u001b[0m\n\u001b[0m\u001b[1;32m    111\u001b[0m         \u001b[0;32mreturn\u001b[0m \u001b[0mobservation\u001b[0m\u001b[0;34m,\u001b[0m \u001b[0mreward\u001b[0m\u001b[0;34m,\u001b[0m \u001b[0mdone\u001b[0m\u001b[0;34m,\u001b[0m \u001b[0minfo\u001b[0m\u001b[0;34m\u001b[0m\u001b[0m\n\u001b[1;32m    112\u001b[0m \u001b[0;34m\u001b[0m\u001b[0m\n",
      "\u001b[0;32m/Users/vertix/Documents/gym/gym/wrappers/time_limit.pyc\u001b[0m in \u001b[0;36m_step\u001b[0;34m(self, action)\u001b[0m\n\u001b[1;32m     34\u001b[0m     \u001b[0;32mdef\u001b[0m \u001b[0m_step\u001b[0m\u001b[0;34m(\u001b[0m\u001b[0mself\u001b[0m\u001b[0;34m,\u001b[0m \u001b[0maction\u001b[0m\u001b[0;34m)\u001b[0m\u001b[0;34m:\u001b[0m\u001b[0;34m\u001b[0m\u001b[0m\n\u001b[1;32m     35\u001b[0m         \u001b[0;32massert\u001b[0m \u001b[0mself\u001b[0m\u001b[0;34m.\u001b[0m\u001b[0m_episode_started_at\u001b[0m \u001b[0;32mis\u001b[0m \u001b[0;32mnot\u001b[0m \u001b[0mNone\u001b[0m\u001b[0;34m,\u001b[0m \u001b[0;34m\"Cannot call env.step() before calling reset()\"\u001b[0m\u001b[0;34m\u001b[0m\u001b[0m\n\u001b[0;32m---> 36\u001b[0;31m         \u001b[0mobservation\u001b[0m\u001b[0;34m,\u001b[0m \u001b[0mreward\u001b[0m\u001b[0;34m,\u001b[0m \u001b[0mdone\u001b[0m\u001b[0;34m,\u001b[0m \u001b[0minfo\u001b[0m \u001b[0;34m=\u001b[0m \u001b[0mself\u001b[0m\u001b[0;34m.\u001b[0m\u001b[0menv\u001b[0m\u001b[0;34m.\u001b[0m\u001b[0mstep\u001b[0m\u001b[0;34m(\u001b[0m\u001b[0maction\u001b[0m\u001b[0;34m)\u001b[0m\u001b[0;34m\u001b[0m\u001b[0m\n\u001b[0m\u001b[1;32m     37\u001b[0m         \u001b[0mself\u001b[0m\u001b[0;34m.\u001b[0m\u001b[0m_elapsed_steps\u001b[0m \u001b[0;34m+=\u001b[0m \u001b[0;36m1\u001b[0m\u001b[0;34m\u001b[0m\u001b[0m\n\u001b[1;32m     38\u001b[0m \u001b[0;34m\u001b[0m\u001b[0m\n",
      "\u001b[0;32m/Users/vertix/Documents/gym/gym/core.pyc\u001b[0m in \u001b[0;36mstep\u001b[0;34m(self, action)\u001b[0m\n\u001b[1;32m    108\u001b[0m             \u001b[0minfo\u001b[0m \u001b[0;34m(\u001b[0m\u001b[0mdict\u001b[0m\u001b[0;34m)\u001b[0m\u001b[0;34m:\u001b[0m \u001b[0mcontains\u001b[0m \u001b[0mauxiliary\u001b[0m \u001b[0mdiagnostic\u001b[0m \u001b[0minformation\u001b[0m \u001b[0;34m(\u001b[0m\u001b[0mhelpful\u001b[0m \u001b[0;32mfor\u001b[0m \u001b[0mdebugging\u001b[0m\u001b[0;34m,\u001b[0m \u001b[0;32mand\u001b[0m \u001b[0msometimes\u001b[0m \u001b[0mlearning\u001b[0m\u001b[0;34m)\u001b[0m\u001b[0;34m\u001b[0m\u001b[0m\n\u001b[1;32m    109\u001b[0m         \"\"\"\n\u001b[0;32m--> 110\u001b[0;31m         \u001b[0mobservation\u001b[0m\u001b[0;34m,\u001b[0m \u001b[0mreward\u001b[0m\u001b[0;34m,\u001b[0m \u001b[0mdone\u001b[0m\u001b[0;34m,\u001b[0m \u001b[0minfo\u001b[0m \u001b[0;34m=\u001b[0m \u001b[0mself\u001b[0m\u001b[0;34m.\u001b[0m\u001b[0m_step\u001b[0m\u001b[0;34m(\u001b[0m\u001b[0maction\u001b[0m\u001b[0;34m)\u001b[0m\u001b[0;34m\u001b[0m\u001b[0m\n\u001b[0m\u001b[1;32m    111\u001b[0m         \u001b[0;32mreturn\u001b[0m \u001b[0mobservation\u001b[0m\u001b[0;34m,\u001b[0m \u001b[0mreward\u001b[0m\u001b[0;34m,\u001b[0m \u001b[0mdone\u001b[0m\u001b[0;34m,\u001b[0m \u001b[0minfo\u001b[0m\u001b[0;34m\u001b[0m\u001b[0m\n\u001b[1;32m    112\u001b[0m \u001b[0;34m\u001b[0m\u001b[0m\n",
      "\u001b[0;32m/Users/vertix/Documents/gym/gym/envs/box2d/lunar_lander.pyc\u001b[0m in \u001b[0;36m_step\u001b[0;34m(self, action)\u001b[0m\n\u001b[1;32m    275\u001b[0m             \u001b[0mself\u001b[0m\u001b[0;34m.\u001b[0m\u001b[0mlander\u001b[0m\u001b[0;34m.\u001b[0m\u001b[0mApplyLinearImpulse\u001b[0m\u001b[0;34m(\u001b[0m \u001b[0;34m(\u001b[0m\u001b[0;34m-\u001b[0m\u001b[0mox\u001b[0m\u001b[0;34m*\u001b[0m\u001b[0mSIDE_ENGINE_POWER\u001b[0m\u001b[0;34m*\u001b[0m\u001b[0ms_power\u001b[0m\u001b[0;34m,\u001b[0m \u001b[0;34m-\u001b[0m\u001b[0moy\u001b[0m\u001b[0;34m*\u001b[0m\u001b[0mSIDE_ENGINE_POWER\u001b[0m\u001b[0;34m*\u001b[0m\u001b[0ms_power\u001b[0m\u001b[0;34m)\u001b[0m\u001b[0;34m,\u001b[0m \u001b[0mimpulse_pos\u001b[0m\u001b[0;34m,\u001b[0m \u001b[0mTrue\u001b[0m\u001b[0;34m)\u001b[0m\u001b[0;34m\u001b[0m\u001b[0m\n\u001b[1;32m    276\u001b[0m \u001b[0;34m\u001b[0m\u001b[0m\n\u001b[0;32m--> 277\u001b[0;31m         \u001b[0mself\u001b[0m\u001b[0;34m.\u001b[0m\u001b[0mworld\u001b[0m\u001b[0;34m.\u001b[0m\u001b[0mStep\u001b[0m\u001b[0;34m(\u001b[0m\u001b[0;36m1.0\u001b[0m\u001b[0;34m/\u001b[0m\u001b[0mFPS\u001b[0m\u001b[0;34m,\u001b[0m \u001b[0;36m6\u001b[0m\u001b[0;34m*\u001b[0m\u001b[0;36m30\u001b[0m\u001b[0;34m,\u001b[0m \u001b[0;36m2\u001b[0m\u001b[0;34m*\u001b[0m\u001b[0;36m30\u001b[0m\u001b[0;34m)\u001b[0m\u001b[0;34m\u001b[0m\u001b[0m\n\u001b[0m\u001b[1;32m    278\u001b[0m \u001b[0;34m\u001b[0m\u001b[0m\n\u001b[1;32m    279\u001b[0m         \u001b[0mpos\u001b[0m \u001b[0;34m=\u001b[0m \u001b[0mself\u001b[0m\u001b[0;34m.\u001b[0m\u001b[0mlander\u001b[0m\u001b[0;34m.\u001b[0m\u001b[0mposition\u001b[0m\u001b[0;34m\u001b[0m\u001b[0m\n",
      "\u001b[0;32m/Users/vertix/Documents/gym/gym/envs/box2d/lunar_lander.pyc\u001b[0m in \u001b[0;36mBeginContact\u001b[0;34m(self, contact)\u001b[0m\n\u001b[1;32m     60\u001b[0m         \u001b[0mcontactListener\u001b[0m\u001b[0;34m.\u001b[0m\u001b[0m__init__\u001b[0m\u001b[0;34m(\u001b[0m\u001b[0mself\u001b[0m\u001b[0;34m)\u001b[0m\u001b[0;34m\u001b[0m\u001b[0m\n\u001b[1;32m     61\u001b[0m         \u001b[0mself\u001b[0m\u001b[0;34m.\u001b[0m\u001b[0menv\u001b[0m \u001b[0;34m=\u001b[0m \u001b[0menv\u001b[0m\u001b[0;34m\u001b[0m\u001b[0m\n\u001b[0;32m---> 62\u001b[0;31m     \u001b[0;32mdef\u001b[0m \u001b[0mBeginContact\u001b[0m\u001b[0;34m(\u001b[0m\u001b[0mself\u001b[0m\u001b[0;34m,\u001b[0m \u001b[0mcontact\u001b[0m\u001b[0;34m)\u001b[0m\u001b[0;34m:\u001b[0m\u001b[0;34m\u001b[0m\u001b[0m\n\u001b[0m\u001b[1;32m     63\u001b[0m         \u001b[0;32mif\u001b[0m \u001b[0mself\u001b[0m\u001b[0;34m.\u001b[0m\u001b[0menv\u001b[0m\u001b[0;34m.\u001b[0m\u001b[0mlander\u001b[0m\u001b[0;34m==\u001b[0m\u001b[0mcontact\u001b[0m\u001b[0;34m.\u001b[0m\u001b[0mfixtureA\u001b[0m\u001b[0;34m.\u001b[0m\u001b[0mbody\u001b[0m \u001b[0;32mor\u001b[0m \u001b[0mself\u001b[0m\u001b[0;34m.\u001b[0m\u001b[0menv\u001b[0m\u001b[0;34m.\u001b[0m\u001b[0mlander\u001b[0m\u001b[0;34m==\u001b[0m\u001b[0mcontact\u001b[0m\u001b[0;34m.\u001b[0m\u001b[0mfixtureB\u001b[0m\u001b[0;34m.\u001b[0m\u001b[0mbody\u001b[0m\u001b[0;34m:\u001b[0m\u001b[0;34m\u001b[0m\u001b[0m\n\u001b[1;32m     64\u001b[0m             \u001b[0mself\u001b[0m\u001b[0;34m.\u001b[0m\u001b[0menv\u001b[0m\u001b[0;34m.\u001b[0m\u001b[0mgame_over\u001b[0m \u001b[0;34m=\u001b[0m \u001b[0mTrue\u001b[0m\u001b[0;34m\u001b[0m\u001b[0m\n",
      "\u001b[0;31mKeyboardInterrupt\u001b[0m: "
     ]
    }
   ],
   "source": [
    "episode_rew = 0.\n",
    "episode_len = 0.\n",
    "old_s = env.reset()\n",
    "for i in xrange(100500100):\n",
    "    ss, aa, rr, ss1, gg = [], [], [], [], []\n",
    "    \n",
    "    g_ = 1.\n",
    "    r_ = 0.\n",
    "    \n",
    "    while len(aa) < ROLLOUT_LEN:\n",
    "        if not done:\n",
    "            a = sess.run(policy, {state1: np.expand_dims(old_s, 0)})\n",
    "            s, r, done, _ = env.step(a)\n",
    "            episode_rew += r\n",
    "            episode_len += 1\n",
    "        else:\n",
    "            r = 0.\n",
    "\n",
    "        g = GAMMA if not done else 0.\n",
    "        r_ += g_ * r\n",
    "        g_ *= g\n",
    "            \n",
    "        ss.append(old_s)\n",
    "        aa.append(a)\n",
    "        gg.append(g)\n",
    "        old_s = s\n",
    "\n",
    "    if done:\n",
    "        writer.add_summary(tf.Summary(\n",
    "            value=[tf.Summary.Value(tag='Env/Reward', simple_value=episode_rew),\n",
    "                   tf.Summary.Value(tag='Env/Length', simple_value=episode_len)]),\n",
    "                   sess.run(global_step))\n",
    "        episode_rew = 0.\n",
    "        episode_len = 0.\n",
    "\n",
    "        old_s = env.reset()\n",
    "        done = False\n",
    "    \n",
    "    ss1.append(old_s)\n",
    "    buf.add(np.array([ss]), np.array([aa]), np.array(r_), np.array(ss1), np.array([gg]), 100)\n",
    "\n",
    "    for _ in xrange(3):\n",
    "        _, ss, aa, rr, ss1, gg, _ = buf.sample(64)\n",
    "        Step(ss, aa, rr, ss1, gg)"
   ]
  },
  {
   "cell_type": "code",
   "execution_count": 1325,
   "metadata": {
    "collapsed": false
   },
   "outputs": [
    {
     "data": {
      "text/plain": [
       "(26719, 262144)"
      ]
     },
     "execution_count": 1325,
     "metadata": {},
     "output_type": "execute_result"
    }
   ],
   "source": [
    "buf.inserted, buf.buffer_size"
   ]
  },
  {
   "cell_type": "code",
   "execution_count": null,
   "metadata": {
    "collapsed": true
   },
   "outputs": [],
   "source": []
  }
 ],
 "metadata": {
  "kernelspec": {
   "display_name": "Python 2 (TF Source)",
   "language": "python",
   "name": "tf_source"
  },
  "language_info": {
   "codemirror_mode": {
    "name": "ipython",
    "version": 2
   },
   "file_extension": ".py",
   "mimetype": "text/x-python",
   "name": "python",
   "nbconvert_exporter": "python",
   "pygments_lexer": "ipython2",
   "version": "2.7.13"
  }
 },
 "nbformat": 4,
 "nbformat_minor": 2
}
